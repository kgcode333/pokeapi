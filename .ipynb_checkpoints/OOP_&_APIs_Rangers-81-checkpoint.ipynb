{
 "cells": [
  {
   "cell_type": "markdown",
   "metadata": {},
   "source": [
    "# Object Oriented Programming 2 - examples and APIs\n"
   ]
  },
  {
   "cell_type": "markdown",
   "metadata": {},
   "source": [
    "## Tasks Today:\n",
    "\n",
    "   \n",
    "\n",
    "1) <b>Shopping Cart Example</b> <br>\n",
    "2) <b>Requests and the pokemon API </b> <br>\n",
    " "
   ]
  },
  {
   "cell_type": "markdown",
   "metadata": {},
   "source": [
    "# Goal \n",
    "### build a shopping cart program with prices and quantities using objects and a dictionary"
   ]
  },
  {
   "cell_type": "code",
   "execution_count": 2,
   "metadata": {},
   "outputs": [],
   "source": [
    "# Create a class called cart that retains items and has methods to add, remove, and show\n",
    "\n",
    "# this class is just responsible for the cart object and the actions of the cart object\n",
    "class Cart():\n",
    "    def __init__(self):\n",
    "        self.items = []\n",
    "    \n",
    "# control the logic and flow/operation of our overall program\n",
    "class Main:\n",
    "    def showInstructions():\n",
    "        print(\"\"\"\n",
    "Welcome to the Shopping Program.\n",
    "Options:\n",
    "[1] Show Current Cart\n",
    "[2] Add Item\n",
    "[3] Remove Item\n",
    "[4] Quit\n",
    "        \"\"\")\n",
    "    \n",
    "    # driver code - responsible for actually calling all of my functions\n",
    "    def run():\n",
    "        Main.showInstructions()\n",
    "        "
   ]
  },
  {
   "cell_type": "markdown",
   "metadata": {},
   "source": [
    "# working with APIs"
   ]
  },
  {
   "cell_type": "markdown",
   "metadata": {},
   "source": [
    "<p> What exactly is an API? <br> <br>\n",
    "API is the acronym for Application Programming Interface, which is a software intermediary that allows two applications to talk to each other. Each time you use an app like Facebook, send an instant message, or check the weather on your phone, you're using an API. </p>"
   ]
  },
  {
   "cell_type": "markdown",
   "metadata": {},
   "source": [
    "### The Poke API  allows you to retreive a pokemon's information from PokeAPI https://pokeapi.co/\n",
    "\n"
   ]
  },
  {
   "cell_type": "code",
   "execution_count": 22,
   "metadata": {},
   "outputs": [
    {
     "name": "stdout",
     "output_type": "stream",
     "text": [
      "dict_keys(['abilities', 'base_experience', 'forms', 'game_indices', 'height', 'held_items', 'id', 'is_default', 'location_area_encounters', 'moves', 'name', 'order', 'past_types', 'species', 'sprites', 'stats', 'types', 'weight'])\n"
     ]
    }
   ],
   "source": [
    "# making an API call\n",
    "import requests \n",
    "r = requests.get('https://pokeapi.co/api/v2/pokemon/squirtle')\n",
    "if r.status_code == 200:\n",
    "    data = r.json()\n",
    "    \n",
    "print(data.keys())"
   ]
  },
  {
   "cell_type": "markdown",
   "metadata": {},
   "source": [
    "### Display a Pokemon's name, abilities, types, and weight"
   ]
  },
  {
   "cell_type": "code",
   "execution_count": 38,
   "metadata": {
    "scrolled": true
   },
   "outputs": [
    {
     "name": "stdout",
     "output_type": "stream",
     "text": [
      "squirtle\n",
      "90\n",
      "5\n"
     ]
    }
   ],
   "source": [
    "# name, abilities, types, and weight\n",
    "#get name\n",
    "name = data['name']\n",
    "print(name)    \n",
    "\n",
    "weight = data['weight']\n",
    "print(weight)\n",
    "\n",
    "height = data['height']\n",
    "print(height)"
   ]
  },
  {
   "cell_type": "code",
   "execution_count": 37,
   "metadata": {},
   "outputs": [
    {
     "name": "stdout",
     "output_type": "stream",
     "text": [
      "https://pokeapi.co/api/v2/pokemon/7/encounters\n"
     ]
    }
   ],
   "source": [
    "location_area_encounters = data[\"location_area_encounters\"]\n",
    "print(location_area_encounters)\n"
   ]
  },
  {
   "cell_type": "code",
   "execution_count": null,
   "metadata": {},
   "outputs": [],
   "source": [
    "species = data['species']\n",
    "print(species)"
   ]
  },
  {
   "cell_type": "code",
   "execution_count": 63,
   "metadata": {},
   "outputs": [
    {
     "name": "stdout",
     "output_type": "stream",
     "text": [
      "['mega-punch', 'ice-punch', 'mega-kick', 'headbutt', 'tackle', 'body-slam', 'take-down', 'double-edge', 'tail-whip', 'bite', 'mist', 'water-gun', 'hydro-pump', 'surf', 'ice-beam', 'blizzard', 'bubble-beam', 'submission', 'counter', 'seismic-toss', 'strength', 'dig', 'toxic', 'confusion', 'rage', 'mimic', 'double-team', 'withdraw', 'defense-curl', 'haze', 'reflect', 'bide', 'waterfall', 'skull-bash', 'bubble', 'rest', 'substitute', 'snore', 'curse', 'flail', 'protect', 'mud-slap', 'foresight', 'icy-wind', 'endure', 'rollout', 'swagger', 'attract', 'sleep-talk', 'return', 'frustration', 'dynamic-punch', 'rapid-spin', 'iron-tail', 'hidden-power', 'rain-dance', 'mirror-coat', 'rock-smash', 'whirlpool', 'fake-out', 'hail', 'facade', 'focus-punch', 'brick-break', 'yawn', 'refresh', 'secret-power', 'dive', 'mud-sport', 'rock-tomb', 'water-spout', 'muddy-water', 'iron-defense', 'water-pulse', 'gyro-ball', 'brine', 'natural-gift', 'fling', 'aqua-ring', 'aura-sphere', 'aqua-tail', 'dragon-pulse', 'zen-headbutt', 'captivate', 'aqua-jet', 'round', 'scald', 'water-pledge', 'work-up', 'confide', 'power-up-punch']\n"
     ]
    }
   ],
   "source": [
    "moves= [pokemon['move']['name'] for pokemon in data['moves']]\n",
    "print(moves)"
   ]
  },
  {
   "cell_type": "code",
   "execution_count": 61,
   "metadata": {},
   "outputs": [
    {
     "name": "stdout",
     "output_type": "stream",
     "text": [
      "['torrent', 'rain-dish']\n"
     ]
    }
   ],
   "source": [
    "abilities = [pokemon['ability']['name']for pokemon in data['abilities']]\n",
    "\n",
    "print(abilities)"
   ]
  },
  {
   "cell_type": "code",
   "execution_count": 42,
   "metadata": {},
   "outputs": [
    {
     "name": "stdout",
     "output_type": "stream",
     "text": [
      "['water']\n"
     ]
    }
   ],
   "source": [
    "types = [pokemon['type']['name'] for pokemon in data['types']]\n",
    "\n",
    "print(types)\n",
    "\n"
   ]
  },
  {
   "cell_type": "code",
   "execution_count": 10,
   "metadata": {},
   "outputs": [],
   "source": [
    "# Create a structure for a single pokemon\n",
    "pokemon_x = {\n",
    "    \n",
    "'name': '',\n",
    "'abilities': [],\n",
    "'weight': '',\n",
    "'types': []\n",
    "}\n"
   ]
  },
  {
   "cell_type": "code",
   "execution_count": 41,
   "metadata": {},
   "outputs": [
    {
     "data": {
      "text/plain": [
       "{'name': 'squirtle',\n",
       " 'abilities': [{'ability': {'name': 'torrent',\n",
       "    'url': 'https://pokeapi.co/api/v2/ability/67/'},\n",
       "   'is_hidden': False,\n",
       "   'slot': 1},\n",
       "  {'ability': {'name': 'rain-dish',\n",
       "    'url': 'https://pokeapi.co/api/v2/ability/44/'},\n",
       "   'is_hidden': True,\n",
       "   'slot': 3}],\n",
       " 'weight': 90,\n",
       " 'types': [{'slot': 1,\n",
       "   'type': {'name': 'water', 'url': 'https://pokeapi.co/api/v2/type/11/'}}]}"
      ]
     },
     "execution_count": 41,
     "metadata": {},
     "output_type": "execute_result"
    }
   ],
   "source": [
    "squirtle = {\n",
    "    \"name\" : name,\n",
    "    \"abilities\" : abilities,\n",
    "    \"weight\" : weight,\n",
    "    \"types\" : types\n",
    "}\n",
    "squirtle"
   ]
  },
  {
   "cell_type": "markdown",
   "metadata": {},
   "source": [
    "#### Create a function to Pull in your own Pokemon's data "
   ]
  },
  {
   "cell_type": "code",
   "execution_count": 14,
   "metadata": {},
   "outputs": [],
   "source": [
    "import requests as r\n",
    "\n",
    "def poke_api_call(pokemon):\n",
    "    pass\n",
    "\n"
   ]
  },
  {
   "cell_type": "markdown",
   "metadata": {},
   "source": [
    "#### Use your function to create a dictionary of your Johto League 6  (favorite 6 pokemon)"
   ]
  },
  {
   "cell_type": "code",
   "execution_count": 15,
   "metadata": {},
   "outputs": [],
   "source": [
    "# Place all 6 of your pokemon on the object below, each pokemon should have at least as much info as Pikachu did.\n",
    "\n",
    "my_six_pokemon = {}"
   ]
  },
  {
   "cell_type": "markdown",
   "metadata": {},
   "source": [
    "## Lets create a class called 'Pokemon' and create our pokemon as instances"
   ]
  },
  {
   "cell_type": "code",
   "execution_count": null,
   "metadata": {},
   "outputs": [],
   "source": []
  },
  {
   "cell_type": "code",
   "execution_count": 82,
   "metadata": {},
   "outputs": [
    {
     "name": "stdout",
     "output_type": "stream",
     "text": [
      "Move: \"Pound\" data has been added! \n",
      "Pound\n",
      "Scratch\n"
     ]
    }
   ],
   "source": [
    "class Move_Tutor:\n",
    "    def __init__(self):\n",
    "        self.movelist = []\n",
    "        \n",
    "    def teach(self):\n",
    "        move_name = input(\"what would you like to teach? \")\n",
    "        move = HM(move_name)\n",
    "        self.movelist.append(move)\n",
    "\n",
    "\n",
    "\n",
    "class HM:\n",
    "    def __init__(self,move_name,):\n",
    "        self.move_name = move_name\n",
    "        self.pp = None\n",
    "        self.accuracy = None\n",
    "        self.power = None\n",
    "        \n",
    "    def move_api_call(self):\n",
    "        r = requests.get(f\"https://pokeapi.co/api/v2/move/{self.move_name}\")\n",
    "        if r.status_code == 200:\n",
    "            data = r.json()\n",
    "        else:\n",
    "            print(f\"Ran into an issue {r.status_code}\")\n",
    "            return\n",
    "        self.accuracy = data['accuracy']\n",
    "        self.pp = data['pp']\n",
    "        self.power = data['power']\n",
    "        print(f'Move: \"{self.move_name.title()}\" data has been added! ')\n",
    "    \n",
    "    \n",
    "pound = HM('pound')\n",
    "scratch = HM('scratch')\n",
    "movelist = []\n",
    "movelist.append(pound)\n",
    "pound.move_api_call()\n",
    "#print(pound.__dict__)\n",
    "print(movelist[-1].move_name.title())\n",
    "movelist.append(scratch)\n",
    "print(movelist[-1].move_name.title())\n"
   ]
  },
  {
   "cell_type": "code",
   "execution_count": null,
   "metadata": {},
   "outputs": [
    {
     "name": "stdout",
     "output_type": "stream",
     "text": [
      "pikachu'data has been updated! \n"
     ]
    }
   ],
   "source": [
    "class Pokemon(Move_Tutor):\n",
    "    def __init__(self,name):\n",
    "        self.name = name\n",
    "        self.types = []\n",
    "        self.abilities = []\n",
    "        self.weight = None\n",
    "        \n",
    "    def poke_api_call(self):\n",
    "        r = requests.get(f\"https://pokeapi.co/api/v2/pokemon/{self.name}\")\n",
    "        if r.status_code == 200:\n",
    "            data = r.json()\n",
    "        else:\n",
    "            print(f\"Ran into an issue {r.status_code}\")\n",
    "            return\n",
    "        \n",
    "        self.types = [pokemon['type']['name']for pokemon in data['types']]\n",
    "        self.abilities = [poke['ability']['name']for poke in data ['abilities']]\n",
    "        self.weight = data['weight']\n",
    "        print(f'{self.name}\\'data has been updated! ')\n",
    "        \n",
    "        \n",
    "pikachu = Pokemon('pikachu')\n",
    "pikachu.poke_api_call()\n",
    "pikachu.teach()\n",
    "print(pikachu)\n",
    "print(pikachu.__dict__)"
   ]
  },
  {
   "cell_type": "code",
   "execution_count": 71,
   "metadata": {},
   "outputs": [
    {
     "name": "stdout",
     "output_type": "stream",
     "text": [
      "lugia'data has been updated! \n",
      "pikachu'data has been updated! \n",
      "charmander'data has been updated! \n",
      "bulbasaur'data has been updated! \n",
      "squirtle'data has been updated! \n",
      "hitmonlee'data has been updated! \n"
     ]
    },
    {
     "data": {
      "text/plain": [
       "{'lugia': <__main__.Pokemon at 0x1cee379d700>,\n",
       " 'pikachu': <__main__.Pokemon at 0x1cee2576d90>,\n",
       " 'charmander': <__main__.Pokemon at 0x1cee2583d00>,\n",
       " 'bulbasaur': <__main__.Pokemon at 0x1cee2583d30>,\n",
       " 'squirtle': <__main__.Pokemon at 0x1cee258d430>,\n",
       " 'hitmonlee': <__main__.Pokemon at 0x1cee22deb80>}"
      ]
     },
     "execution_count": 71,
     "metadata": {},
     "output_type": "execute_result"
    }
   ],
   "source": [
    "pokemon = ['lugia', 'pikachu', 'charmander', 'bulbasaur', 'squirtle', 'hitmonlee']\n",
    "\n",
    "# dictionary of structure {name: object,}\n",
    "poke_dict = {}\n",
    "for name in pokemon:\n",
    "    new = Pokemon(name)\n",
    "    new.poke_api_call()\n",
    "    poke_dict[name] = new\n",
    "    \n",
    "poke_dict\n",
    "\n"
   ]
  },
  {
   "cell_type": "markdown",
   "metadata": {},
   "source": [
    "### Where to go next? What to do with your Pokemon object? <br><br>\n",
    "## \"What to do now?\"<br>\n",
    "\n",
    "# Shopping cart style program?\n",
    "### User builds a team of pokemon\n",
    "    \n",
    "<p> we could turn our pokemon object that utilizes API calls into a shopping cart style program where we ask our user for input to choose pokemon to create </p> <br> <br>\n",
    "    \n",
    "# Check out what other endpoints the PokeAPI has to offer\n",
    "  I figured out that they have a region endpoint\n",
    " the region endpoint has a pokedex endpoint within it\n",
    " I can build a list of pokemon names from that pokedex endpoint\n",
    " I can use that list of pokemon names in my repeatable pokemon object creation and wind up with a massive list of pokemon\n",
    "<br><br>\n",
    "(note that the API will be a bit slower when you have hundreds of calls to make)\n",
    "        \n",
    "# Turn toward more user searching our pokemon lists - build functions for different types of search\n",
    " user can press 1 to search by name\n",
    " user can press 2 to search by type\n",
    " (have a function that loops through pokemon and figures out if they have the right type)"
   ]
  },
  {
   "cell_type": "code",
   "execution_count": null,
   "metadata": {},
   "outputs": [],
   "source": []
  }
 ],
 "metadata": {
  "kernelspec": {
   "display_name": "Python 3 (ipykernel)",
   "language": "python",
   "name": "python3"
  },
  "language_info": {
   "codemirror_mode": {
    "name": "ipython",
    "version": 3
   },
   "file_extension": ".py",
   "mimetype": "text/x-python",
   "name": "python",
   "nbconvert_exporter": "python",
   "pygments_lexer": "ipython3",
   "version": "3.9.7"
  }
 },
 "nbformat": 4,
 "nbformat_minor": 4
}
